{
 "cells": [
  {
   "cell_type": "markdown",
   "metadata": {},
   "source": [
    "## AutoML Training In Azure Machine Learning Service\n",
    "\n",
    "This tutorial will go over how to train a model to predict automobile prices using the Designer in Azure Machine Learning service.\n",
    "\n",
    "Go to the [Azure ML Studio](https://ml.azure.com) and click on the **Designer**. Then click on **Sample 1**.\n",
    "\n",
    "![1](screenshots/1.png)"
   ]
  },
  {
   "cell_type": "markdown",
   "metadata": {},
   "source": [
    "Click **Select compute target** and then either choose an existing compute target or create a new one. Then click **Run**\n",
    "\n",
    "![2](screenshots/2.png)"
   ]
  },
  {
   "cell_type": "markdown",
   "metadata": {},
   "source": [
    "Click on **+ New experiment**.\n",
    "\n",
    "![3](screenshots/3.png)"
   ]
  },
  {
   "cell_type": "markdown",
   "metadata": {},
   "source": [
    "Name the exeriment **autombile-price-prediction** and then click **Run**.\n",
    "\n",
    "![4](screenshots/4.png)"
   ]
  },
  {
   "cell_type": "markdown",
   "metadata": {},
   "source": [
    "Once the run is finished, try a new run with a different model. Uncollapse **Machine Learning Algorithm** and look for the **Decision Forest Regression** module.\n",
    "\n",
    "![5](screenshots/5.png)"
   ]
  },
  {
   "cell_type": "markdown",
   "metadata": {},
   "source": [
    "Replace the **Linear Regression** module with the new **Decision Forest Regression** module by dragging the module into the designer and modifying the connections.\n",
    "\n",
    "![6](screenshots/6.png)"
   ]
  },
  {
   "cell_type": "markdown",
   "metadata": {},
   "source": [
    "Click on **Run**. Select the same experiment that was created early and re-run the pipeline. Notice that some modules run way faster this time around. That is because the results are cached and re-used if the input data and scripts are not modified from previous runs.\n",
    "\n",
    "![7](screenshots/7.png)"
   ]
  },
  {
   "cell_type": "markdown",
   "metadata": {},
   "source": [
    "Go to the **Experiments** tab to look at the results from both runs.\n",
    "\n",
    "![8](screenshots/8.png)"
   ]
  }
 ],
 "metadata": {
  "kernelspec": {
   "display_name": "Python 3.6 - AzureML",
   "language": "python",
   "name": "python3-azureml"
  },
  "language_info": {
   "codemirror_mode": {
    "name": "ipython",
    "version": 3
   },
   "file_extension": ".py",
   "mimetype": "text/x-python",
   "name": "python",
   "nbconvert_exporter": "python",
   "pygments_lexer": "ipython3",
   "version": "3.6.9"
  }
 },
 "nbformat": 4,
 "nbformat_minor": 2
}
