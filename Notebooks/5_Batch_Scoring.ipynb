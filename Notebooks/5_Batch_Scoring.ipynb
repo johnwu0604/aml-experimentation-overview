{
 "cells": [
  {
   "cell_type": "markdown",
   "metadata": {},
   "source": [
    "## Part 5 - Batch Scoring"
   ]
  },
  {
   "cell_type": "markdown",
   "metadata": {},
   "source": [
    "**Connect to workspace**"
   ]
  },
  {
   "cell_type": "code",
   "execution_count": 1,
   "metadata": {},
   "outputs": [],
   "source": [
    "from azureml.core import Workspace\n",
    "\n",
    "workspace = Workspace.from_config()"
   ]
  },
  {
   "cell_type": "markdown",
   "metadata": {},
   "source": [
    "**Retrieve datastore, dataset, compute target, and model**"
   ]
  },
  {
   "cell_type": "code",
   "execution_count": 2,
   "metadata": {},
   "outputs": [],
   "source": [
    "datastore = workspace.get_default_datastore()\n",
    "cifar_dataset = workspace.datasets['CIFAR-10 Dataset']\n",
    "compute_target = workspace.compute_targets['d3v2cluster']\n",
    "model = workspace.models['cifar-classifier']"
   ]
  },
  {
   "cell_type": "markdown",
   "metadata": {},
   "source": [
    "**Define output directory**"
   ]
  },
  {
   "cell_type": "code",
   "execution_count": 3,
   "metadata": {},
   "outputs": [],
   "source": [
    "from azureml.pipeline.core import Pipeline, PipelineData\n",
    "\n",
    "output_dir = PipelineData(name='cifarinferences', \n",
    "                          datastore=datastore, \n",
    "                          output_path_on_compute='cifar/results')"
   ]
  },
  {
   "cell_type": "markdown",
   "metadata": {},
   "source": [
    "**Create pipeline config to wrap scoring script**"
   ]
  },
  {
   "cell_type": "code",
   "execution_count": null,
   "metadata": {},
   "outputs": [],
   "source": [
    "%pycat batch/batch-score.py"
   ]
  },
  {
   "cell_type": "code",
   "execution_count": 4,
   "metadata": {},
   "outputs": [],
   "source": [
    "from azureml.core import Environment\n",
    "from azureml.core.runconfig import CondaDependencies, DEFAULT_CPU_IMAGE\n",
    "from azureml.contrib.pipeline.steps import ParallelRunStep, ParallelRunConfig\n",
    "\n",
    "dependencies = CondaDependencies.create(pip_packages=['torch==1.4.0', 'torchvision==0.5.0', 'Pillow==6.2.0'])\n",
    "\n",
    "batch_env = Environment(name='batch_environment')\n",
    "batch_env.python.conda_dependencies = dependencies\n",
    "batch_env.docker.enabled = True\n",
    "batch_env.docker.base_image = DEFAULT_CPU_IMAGE\n",
    "\n",
    "parallel_run_config = ParallelRunConfig(\n",
    "    source_directory='batch',\n",
    "    entry_script='batch-score.py',\n",
    "    mini_batch_size='5',\n",
    "    error_threshold=10,\n",
    "    output_action='append_row',\n",
    "    environment=batch_env,\n",
    "    compute_target=compute_target,\n",
    "    node_count=4)"
   ]
  },
  {
   "cell_type": "markdown",
   "metadata": {},
   "source": [
    "**Create pipeline step**"
   ]
  },
  {
   "cell_type": "code",
   "execution_count": 5,
   "metadata": {},
   "outputs": [],
   "source": [
    "parallel_run_step = ParallelRunStep(\n",
    "    name='cifar-batch-prediction',\n",
    "    parallel_run_config=parallel_run_config,\n",
    "    inputs=[cifar_dataset.as_named_input('cifardataset')],\n",
    "    output=output_dir,\n",
    "    models=[model],\n",
    "    arguments=[],\n",
    "    allow_reuse=True\n",
    ")"
   ]
  },
  {
   "cell_type": "markdown",
   "metadata": {},
   "source": [
    "**Run batch scoring pipeline**"
   ]
  },
  {
   "cell_type": "code",
   "execution_count": 6,
   "metadata": {},
   "outputs": [
    {
     "name": "stdout",
     "output_type": "stream",
     "text": [
      "Created step cifar-batch-prediction [5d75dd04][b4771b63-2934-4592-83c0-ba8ab40e22c1], (This step will run and generate new outputs)\n",
      "Using data reference cifardataset_0 for StepId [2fee296b][8dd39c22-e3b1-4d7c-8213-ef7aa62ba787], (Consumers of this data are eligible to reuse prior runs.)\n",
      "Submitted PipelineRun 6f5ba1a2-5cc5-4673-9283-45f7a54696d0\n",
      "Link to Azure Machine Learning Portal: https://ml.azure.com/experiments/cifar-batch-scoring/runs/6f5ba1a2-5cc5-4673-9283-45f7a54696d0?wsid=/subscriptions/15ae9cb6-95c1-483d-a0e3-b1a1a3b06324/resourcegroups/john/workspaces/john-east\n"
     ]
    }
   ],
   "source": [
    "from azureml.core import Experiment\n",
    "\n",
    "pipeline = Pipeline(workspace=workspace, steps=[parallel_run_step])\n",
    "experiment = Experiment(workspace, 'cifar-batch-scoring')\n",
    "pipeline_run = experiment.submit(pipeline)"
   ]
  },
  {
   "cell_type": "code",
   "execution_count": 7,
   "metadata": {
    "scrolled": true
   },
   "outputs": [
    {
     "data": {
      "application/vnd.jupyter.widget-view+json": {
       "model_id": "e9552b1589f14e33a712744f6c89627a",
       "version_major": 2,
       "version_minor": 0
      },
      "text/plain": [
       "_PipelineWidget(widget_settings={'childWidgetDisplay': 'popup', 'send_telemetry': False, 'log_level': 'INFO', …"
      ]
     },
     "metadata": {},
     "output_type": "display_data"
    },
    {
     "data": {
      "application/aml.mini.widget.v1": "{\"loading\": true}"
     },
     "metadata": {},
     "output_type": "display_data"
    }
   ],
   "source": [
    "from azureml.widgets import RunDetails\n",
    "RunDetails(pipeline_run).show()"
   ]
  },
  {
   "cell_type": "markdown",
   "metadata": {},
   "source": [
    "**View prediction results**"
   ]
  },
  {
   "cell_type": "code",
   "execution_count": 9,
   "metadata": {},
   "outputs": [
    {
     "data": {
      "text/html": [
       "<div>\n",
       "<style scoped>\n",
       "    .dataframe tbody tr th:only-of-type {\n",
       "        vertical-align: middle;\n",
       "    }\n",
       "\n",
       "    .dataframe tbody tr th {\n",
       "        vertical-align: top;\n",
       "    }\n",
       "\n",
       "    .dataframe thead th {\n",
       "        text-align: right;\n",
       "    }\n",
       "</style>\n",
       "<table border=\"1\" class=\"dataframe\">\n",
       "  <thead>\n",
       "    <tr style=\"text-align: right;\">\n",
       "      <th></th>\n",
       "      <th>Filename</th>\n",
       "      <th>Prediction</th>\n",
       "    </tr>\n",
       "  </thead>\n",
       "  <tbody>\n",
       "    <tr>\n",
       "      <th>0</th>\n",
       "      <td>/mnt/batch/tasks/shared/LS_root/jobs/john-east...</td>\n",
       "      <td>airplane</td>\n",
       "    </tr>\n",
       "    <tr>\n",
       "      <th>1</th>\n",
       "      <td>/mnt/batch/tasks/shared/LS_root/jobs/john-east...</td>\n",
       "      <td>airplane</td>\n",
       "    </tr>\n",
       "    <tr>\n",
       "      <th>2</th>\n",
       "      <td>/mnt/batch/tasks/shared/LS_root/jobs/john-east...</td>\n",
       "      <td>airplane</td>\n",
       "    </tr>\n",
       "    <tr>\n",
       "      <th>3</th>\n",
       "      <td>/mnt/batch/tasks/shared/LS_root/jobs/john-east...</td>\n",
       "      <td>airplane</td>\n",
       "    </tr>\n",
       "    <tr>\n",
       "      <th>4</th>\n",
       "      <td>/mnt/batch/tasks/shared/LS_root/jobs/john-east...</td>\n",
       "      <td>airplane</td>\n",
       "    </tr>\n",
       "    <tr>\n",
       "      <th>5</th>\n",
       "      <td>/mnt/batch/tasks/shared/LS_root/jobs/john-east...</td>\n",
       "      <td>automobile</td>\n",
       "    </tr>\n",
       "    <tr>\n",
       "      <th>6</th>\n",
       "      <td>/mnt/batch/tasks/shared/LS_root/jobs/john-east...</td>\n",
       "      <td>automobile</td>\n",
       "    </tr>\n",
       "    <tr>\n",
       "      <th>7</th>\n",
       "      <td>/mnt/batch/tasks/shared/LS_root/jobs/john-east...</td>\n",
       "      <td>automobile</td>\n",
       "    </tr>\n",
       "    <tr>\n",
       "      <th>8</th>\n",
       "      <td>/mnt/batch/tasks/shared/LS_root/jobs/john-east...</td>\n",
       "      <td>automobile</td>\n",
       "    </tr>\n",
       "    <tr>\n",
       "      <th>9</th>\n",
       "      <td>/mnt/batch/tasks/shared/LS_root/jobs/john-east...</td>\n",
       "      <td>automobile</td>\n",
       "    </tr>\n",
       "  </tbody>\n",
       "</table>\n",
       "</div>"
      ],
      "text/plain": [
       "                                            Filename   Prediction\n",
       "0  /mnt/batch/tasks/shared/LS_root/jobs/john-east...     airplane\n",
       "1  /mnt/batch/tasks/shared/LS_root/jobs/john-east...     airplane\n",
       "2  /mnt/batch/tasks/shared/LS_root/jobs/john-east...     airplane\n",
       "3  /mnt/batch/tasks/shared/LS_root/jobs/john-east...     airplane\n",
       "4  /mnt/batch/tasks/shared/LS_root/jobs/john-east...     airplane\n",
       "5  /mnt/batch/tasks/shared/LS_root/jobs/john-east...   automobile\n",
       "6  /mnt/batch/tasks/shared/LS_root/jobs/john-east...   automobile\n",
       "7  /mnt/batch/tasks/shared/LS_root/jobs/john-east...   automobile\n",
       "8  /mnt/batch/tasks/shared/LS_root/jobs/john-east...   automobile\n",
       "9  /mnt/batch/tasks/shared/LS_root/jobs/john-east...   automobile"
      ]
     },
     "execution_count": 9,
     "metadata": {},
     "output_type": "execute_result"
    }
   ],
   "source": [
    "import pandas as pd\n",
    "import shutil\n",
    "\n",
    "# remove previous run results, if present\n",
    "shutil.rmtree('cifar_results', ignore_errors=True)\n",
    "\n",
    "batch_run = next(pipeline_run.get_children())\n",
    "batch_output = batch_run.get_output_data('cifarinferences')\n",
    "batch_output.download(local_path='cifar_results')\n",
    "\n",
    "for root, dirs, files in os.walk('cifar_results'):\n",
    "    for file in files:\n",
    "        if file.endswith('parallel_run_step.txt'):\n",
    "            result_file = os.path.join(root,file)\n",
    "\n",
    "df = pd.read_csv(result_file, delimiter=\":\", header=None)\n",
    "df.columns = ['Filename', 'Prediction']\n",
    "df.head(10)"
   ]
  },
  {
   "cell_type": "code",
   "execution_count": null,
   "metadata": {},
   "outputs": [],
   "source": [
    "df['Filename'].iloc[0]\n",
    "df['Prediction'].iloc[0]"
   ]
  },
  {
   "cell_type": "code",
   "execution_count": null,
   "metadata": {},
   "outputs": [],
   "source": []
  }
 ],
 "metadata": {
  "kernelspec": {
   "display_name": "Python 3.6 - AzureML",
   "language": "python",
   "name": "python3-azureml"
  },
  "language_info": {
   "codemirror_mode": {
    "name": "ipython",
    "version": 3
   },
   "file_extension": ".py",
   "mimetype": "text/x-python",
   "name": "python",
   "nbconvert_exporter": "python",
   "pygments_lexer": "ipython3",
   "version": "3.6.9"
  }
 },
 "nbformat": 4,
 "nbformat_minor": 2
}
