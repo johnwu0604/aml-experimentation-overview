{
 "cells": [
  {
   "cell_type": "markdown",
   "metadata": {},
   "source": [
    "## Part 2 - Create Compute Targets\n",
    "\n",
    "**Connect to the workspace**"
   ]
  },
  {
   "cell_type": "code",
   "execution_count": 1,
   "metadata": {},
   "outputs": [],
   "source": [
    "from azureml.core import Workspace\n",
    "\n",
    "workspace = Workspace.from_config()"
   ]
  },
  {
   "cell_type": "markdown",
   "metadata": {},
   "source": [
    "**Create GPU compute target**"
   ]
  },
  {
   "cell_type": "code",
   "execution_count": 6,
   "metadata": {},
   "outputs": [],
   "source": [
    "from azureml.core.compute import AmlCompute, ComputeTarget\n",
    "\n",
    "gpu_cluster_name = 'k80cluster'\n",
    "gpu_compute_config = AmlCompute.provisioning_configuration(vm_size='Standard_NC6',\n",
    "                                                       idle_seconds_before_scaledown=1200,\n",
    "                                                       min_nodes=1, # Setting to 1 for demo purpose (should set to 0 in practice)\n",
    "                                                       max_nodes=4)\n",
    "\n",
    "gpu_compute_target = ComputeTarget.create(workspace, gpu_cluster_name, gpu_compute_config)"
   ]
  },
  {
   "cell_type": "markdown",
   "metadata": {},
   "source": [
    "**Create AKS compute target**"
   ]
  },
  {
   "cell_type": "code",
   "execution_count": 14,
   "metadata": {},
   "outputs": [],
   "source": [
    "from azureml.core.compute import AksCompute, ComputeTarget\n",
    "\n",
    "aks_cluster_name = 'aks-cluster'\n",
    "aks_compute_config = AksCompute.provisioning_configuration(vm_size='Standard_DS3',\n",
    "                                                           location='southcentralus')\n",
    "\n",
    "aks_compute_target = ComputeTarget.create(workspace, aks_cluster_name, aks_compute_config)"
   ]
  },
  {
   "cell_type": "markdown",
   "metadata": {},
   "source": [
    "**Create CPU compute target**"
   ]
  },
  {
   "cell_type": "code",
   "execution_count": 23,
   "metadata": {},
   "outputs": [],
   "source": [
    "cpu_cluster_name = 'd3v2cluster'\n",
    "cpu_compute_config = AmlCompute.provisioning_configuration(vm_size='STANDARD_D3_V2',\n",
    "                                                       idle_seconds_before_scaledown=1200,\n",
    "                                                       min_nodes=4, # Setting to 4 for demo purpose (should set to 0 in practice)\n",
    "                                                       max_nodes=10)\n",
    "\n",
    "cpu_compute_target = ComputeTarget.create(workspace, cpu_cluster_name, cpu_compute_config)"
   ]
  },
  {
   "cell_type": "markdown",
   "metadata": {},
   "source": [
    "**Wait for creation completion**"
   ]
  },
  {
   "cell_type": "code",
   "execution_count": 24,
   "metadata": {},
   "outputs": [
    {
     "name": "stdout",
     "output_type": "stream",
     "text": [
      "Succeeded\n",
      "AmlCompute wait for completion finished\n",
      "Minimum number of nodes requested have been provisioned\n",
      "SucceededProvisioning operation finished, operation \"Succeeded\"\n",
      "Creating\n",
      "Succeeded..................\n",
      "AmlCompute wait for completion finished\n",
      "Minimum number of nodes requested have been provisioned\n"
     ]
    }
   ],
   "source": [
    "gpu_compute_target.wait_for_completion(show_output=True)\n",
    "aks_compute_target.wait_for_completion(show_output=True)\n",
    "cpu_compute_target.wait_for_completion(show_output=True)"
   ]
  },
  {
   "cell_type": "code",
   "execution_count": null,
   "metadata": {},
   "outputs": [],
   "source": []
  }
 ],
 "metadata": {
  "kernelspec": {
   "display_name": "Python 3.6 - AzureML",
   "language": "python",
   "name": "python3-azureml"
  },
  "language_info": {
   "codemirror_mode": {
    "name": "ipython",
    "version": 3
   },
   "file_extension": ".py",
   "mimetype": "text/x-python",
   "name": "python",
   "nbconvert_exporter": "python",
   "pygments_lexer": "ipython3",
   "version": "3.6.9"
  }
 },
 "nbformat": 4,
 "nbformat_minor": 2
}
